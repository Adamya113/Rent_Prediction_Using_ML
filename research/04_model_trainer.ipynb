{
 "cells": [
  {
   "cell_type": "code",
   "execution_count": 11,
   "metadata": {},
   "outputs": [],
   "source": [
    "import os"
   ]
  },
  {
   "cell_type": "code",
   "execution_count": 16,
   "metadata": {},
   "outputs": [
    {
     "data": {
      "text/plain": [
       "'c:\\\\Users\\\\Dell\\\\Downloads\\\\Rent_Ml_flow_AWS\\\\Rent_Prediction_Using_ML\\\\research'"
      ]
     },
     "execution_count": 16,
     "metadata": {},
     "output_type": "execute_result"
    }
   ],
   "source": [
    "%pwd"
   ]
  },
  {
   "cell_type": "code",
   "execution_count": 17,
   "metadata": {},
   "outputs": [],
   "source": [
    "os.chdir(\"../\")"
   ]
  },
  {
   "cell_type": "code",
   "execution_count": 18,
   "metadata": {},
   "outputs": [
    {
     "data": {
      "text/plain": [
       "'c:\\\\Users\\\\Dell\\\\Downloads\\\\Rent_Ml_flow_AWS\\\\Rent_Prediction_Using_ML'"
      ]
     },
     "execution_count": 18,
     "metadata": {},
     "output_type": "execute_result"
    }
   ],
   "source": [
    "%pwd"
   ]
  },
  {
   "cell_type": "code",
   "execution_count": 39,
   "metadata": {},
   "outputs": [],
   "source": [
    "from dataclasses import dataclass\n",
    "from pathlib import Path\n",
    "\n",
    "\n",
    "@dataclass(frozen=True)\n",
    "class ModelTrainerConfig:\n",
    "    root_dir: Path\n",
    "    train_data_path: Path\n",
    "    test_data_path: Path\n",
    "    model_name: str\n",
    "    num_of_epochs: int\n",
    "    lr: float\n",
    "    target_column: str\n",
    "    "
   ]
  },
  {
   "cell_type": "code",
   "execution_count": 40,
   "metadata": {},
   "outputs": [],
   "source": [
    "from src.mlProject.constants import *\n",
    "from src.mlProject.utils.common import read_yaml, create_directories"
   ]
  },
  {
   "cell_type": "code",
   "execution_count": 41,
   "metadata": {},
   "outputs": [],
   "source": [
    "class ConfigurationManager:\n",
    "    def __init__(\n",
    "        self,\n",
    "        config_filepath = CONFIG_FILE_PATH,\n",
    "        params_filepath = PARAMS_FILE_PATH,\n",
    "        schema_filepath = SCHEMA_FILE_PATH):\n",
    "\n",
    "        self.config = read_yaml(config_filepath)\n",
    "        self.params = read_yaml(params_filepath)\n",
    "        self.schema = read_yaml(schema_filepath)\n",
    "\n",
    "        create_directories([self.config.artifacts_root])\n",
    "\n",
    "\n",
    "    def get_model_trainer_config(self) -> ModelTrainerConfig:\n",
    "        config = self.config.model_trainer\n",
    "        params = self.params.NeuralNetwork\n",
    "        schema =  self.schema.TARGET_COLUMN\n",
    "\n",
    "        create_directories([config.root_dir])\n",
    "\n",
    "        model_trainer_config = ModelTrainerConfig(\n",
    "            root_dir=config.root_dir,\n",
    "            train_data_path = config.train_data_path,\n",
    "            test_data_path = config.test_data_path,\n",
    "            model_name = config.model_name,\n",
    "            # alpha = params.alpha,\n",
    "            # l1_ratio = params.l1_ratio,\n",
    "            num_of_epochs = params.num_of_epochs,\n",
    "            lr = params.lr,\n",
    "            target_column = schema.name\n",
    "            \n",
    "        )\n",
    "\n",
    "        return model_trainer_config"
   ]
  },
  {
   "cell_type": "code",
   "execution_count": 42,
   "metadata": {},
   "outputs": [],
   "source": [
    "import pandas as pd\n",
    "import os\n",
    "from src.mlProject import logger\n",
    "import torch\n",
    "import torch.nn as nn\n",
    "import torch.optim as optim\n",
    "import joblib"
   ]
  },
  {
   "cell_type": "code",
   "execution_count": 43,
   "metadata": {},
   "outputs": [],
   "source": [
    "class linearRegression(nn.Module): # all the dependencies from torch will be given to this class [parent class] # nn.Module contains all the building block of neural networks:\n",
    "  def __init__(self,input_dim):\n",
    "    super(linearRegression,self).__init__()  # building connection with parent and child classes\n",
    "    self.fc1=nn.Linear(input_dim,64)          # hidden layer 1\n",
    "    self.fc2=nn.Linear(64,32)                  # hidden layer 2\n",
    "    self.fc3=nn.Linear(32,16)                   # hidden layer 3\n",
    "    self.fc4=nn.Linear(16,8)                   #hidden layer 4\n",
    "    self.fc5=nn.Linear(8,1)                   # last layer\n",
    "\n",
    "  def forward(self,d):\n",
    "    out=torch.relu(self.fc1(d))              # input * weights + bias for layer 1\n",
    "    out=torch.relu(self.fc2(out))            # input * weights + bias for layer 2\n",
    "    out=torch.relu(self.fc3(out))            # input * weights + bias for layer 3\n",
    "    out=torch.relu(self.fc4(out))            # input * weights + bias for layer 4\n",
    "    out=self.fc5(out)                        # input * weights + bias for last layer\n",
    "    return out                               # final outcome"
   ]
  },
  {
   "cell_type": "code",
   "execution_count": 46,
   "metadata": {},
   "outputs": [],
   "source": [
    "class ModelTrainer:\n",
    "    def __init__(self, config: ModelTrainerConfig):\n",
    "        self.config = config\n",
    "\n",
    "    \n",
    "    def train(self):\n",
    "        train_data = pd.read_csv(self.config.train_data_path)\n",
    "        test_data = pd.read_csv(self.config.test_data_path)\n",
    "\n",
    "\n",
    "        train_x = train_data.drop([self.config.target_column], axis=1)\n",
    "        test_x = test_data.drop([self.config.target_column], axis=1)\n",
    "        train_y = train_data[[self.config.target_column]]\n",
    "        test_y = test_data[[self.config.target_column]]\n",
    "\n",
    "        # Convert to PyTorch tensors\n",
    "        X_train = torch.tensor(train_x.values, dtype=torch.float32)\n",
    "        X_test = torch.tensor(test_x.values, dtype=torch.float32)\n",
    "        y_train = torch.tensor(train_y.values, dtype=torch.float32)\n",
    "        y_test = torch.tensor(test_y.values, dtype=torch.float32)\n",
    "\n",
    "        input_dim=X_train.shape[1]\n",
    "        torch.manual_seed(42)  # to make initialized weights stable:\n",
    "        model = linearRegression(input_dim)\n",
    "        loss=nn.MSELoss() # loss function\n",
    "        optimizers=optim.Adam(params=model.parameters(),lr=self.config.lr)\n",
    "\n",
    "        # training the model:\n",
    "        for i in range(self.config.num_of_epochs):\n",
    "            # give the input data to the architecure\n",
    "            y_train_prediction=model(X_train)  # model initializing\n",
    "            loss_value=loss(y_train_prediction.squeeze(),y_train)   # find the loss function:\n",
    "            optimizers.zero_grad() # make gradients zero for every iteration so next iteration it will be clear\n",
    "            loss_value.backward()  # back propagation\n",
    "            optimizers.step()  # update weights in NN\n",
    "\n",
    "            # print the loss in training part:\n",
    "            if i % 10 == 0:\n",
    "                logger.info(f\"[epoch:{i}]: The training loss={loss_value}\")\n",
    "\n",
    "        joblib.dump({'model_state_dict': model.state_dict()}, os.path.join(self.config.root_dir, self.config.model_name))\n"
   ]
  },
  {
   "cell_type": "code",
   "execution_count": 47,
   "metadata": {},
   "outputs": [
    {
     "name": "stdout",
     "output_type": "stream",
     "text": [
      "[2025-01-16 18:53:09,352: INFO: common: yaml file: config\\config.yaml loaded successfully]\n",
      "[2025-01-16 18:53:09,360: INFO: common: yaml file: params.yaml loaded successfully]\n",
      "[2025-01-16 18:53:09,374: INFO: common: yaml file: schema.yaml loaded successfully]\n",
      "[2025-01-16 18:53:09,386: INFO: common: created directory at: artifacts]\n",
      "[2025-01-16 18:53:09,393: INFO: common: created directory at: artifacts/model_trainer]\n"
     ]
    },
    {
     "name": "stderr",
     "output_type": "stream",
     "text": [
      "c:\\Users\\Dell\\AppData\\Local\\Programs\\Python\\Python310\\lib\\site-packages\\torch\\nn\\modules\\loss.py:535: UserWarning: Using a target size (torch.Size([9495, 1])) that is different to the input size (torch.Size([9495])). This will likely lead to incorrect results due to broadcasting. Please ensure they have the same size.\n",
      "  return F.mse_loss(input, target, reduction=self.reduction)\n"
     ]
    },
    {
     "name": "stdout",
     "output_type": "stream",
     "text": [
      "[2025-01-16 18:53:15,252: INFO: 110644740: [epoch:0]: The training loss=6082070528.0]\n",
      "[2025-01-16 18:53:47,514: INFO: 110644740: [epoch:10]: The training loss=6009809920.0]\n"
     ]
    }
   ],
   "source": [
    "try:\n",
    "    config = ConfigurationManager()\n",
    "    model_trainer_config = config.get_model_trainer_config()\n",
    "    model_trainer_config = ModelTrainer(config=model_trainer_config)\n",
    "    model_trainer_config.train()\n",
    "except Exception as e:\n",
    "    raise e"
   ]
  },
  {
   "cell_type": "code",
   "execution_count": null,
   "metadata": {},
   "outputs": [],
   "source": []
  }
 ],
 "metadata": {
  "kernelspec": {
   "display_name": "Python 3",
   "language": "python",
   "name": "python3"
  },
  "language_info": {
   "codemirror_mode": {
    "name": "ipython",
    "version": 3
   },
   "file_extension": ".py",
   "mimetype": "text/x-python",
   "name": "python",
   "nbconvert_exporter": "python",
   "pygments_lexer": "ipython3",
   "version": "3.10.1"
  },
  "orig_nbformat": 4
 },
 "nbformat": 4,
 "nbformat_minor": 2
}
